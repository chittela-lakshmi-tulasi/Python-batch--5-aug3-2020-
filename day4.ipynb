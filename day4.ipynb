{
 "cells": [
  {
   "cell_type": "code",
   "execution_count": 1,
   "metadata": {},
   "outputs": [],
   "source": [
    "# breaking statements\n",
    "# Break\n",
    "# continue"
   ]
  },
  {
   "cell_type": "code",
   "execution_count": 2,
   "metadata": {},
   "outputs": [],
   "source": [
    "# Break : to stop the program in perticular condition \n",
    "# continue :to skip the perticular operation or iteration"
   ]
  },
  {
   "cell_type": "code",
   "execution_count": 7,
   "metadata": {},
   "outputs": [
    {
     "name": "stdout",
     "output_type": "stream",
     "text": [
      "1\n",
      "2\n",
      "3\n",
      "4\n",
      "5\n"
     ]
    }
   ],
   "source": [
    "for i in range(1,11):\n",
    "    print(i)\n",
    "    if i == 5:\n",
    "        break\n",
    "    #print('hello')\n",
    "    "
   ]
  },
  {
   "cell_type": "code",
   "execution_count": 8,
   "metadata": {},
   "outputs": [
    {
     "name": "stdout",
     "output_type": "stream",
     "text": [
      "enter a number8\n",
      "not prime number\n"
     ]
    }
   ],
   "source": [
    "n = int(input('enter a number'))\n",
    "c = 0\n",
    "for i in range(2,n):\n",
    "    if n%i == 0:\n",
    "        c+=1\n",
    "        break\n",
    "if c==0:\n",
    "    print('prime number')\n",
    "else:\n",
    "    print('not prime number')"
   ]
  },
  {
   "cell_type": "code",
   "execution_count": 13,
   "metadata": {},
   "outputs": [
    {
     "name": "stdout",
     "output_type": "stream",
     "text": [
      "100 150 200 "
     ]
    }
   ],
   "source": [
    "# continue\n",
    "for i in range(100,201,50):\n",
    "    if i == 150:\n",
    "        continue\n",
    "    print(i,end = ' ')"
   ]
  },
  {
   "cell_type": "code",
   "execution_count": 14,
   "metadata": {},
   "outputs": [
    {
     "name": "stdout",
     "output_type": "stream",
     "text": [
      "1\n",
      "2\n",
      "3\n",
      "4\n",
      "5\n",
      "6\n",
      "7\n",
      "8\n",
      "9\n",
      "10\n"
     ]
    }
   ],
   "source": [
    "n = 1\n",
    "while True:\n",
    "    print(n)\n",
    "    if n == 10:\n",
    "        break\n",
    "    n+=1"
   ]
  },
  {
   "cell_type": "code",
   "execution_count": 3,
   "metadata": {},
   "outputs": [
    {
     "name": "stdout",
     "output_type": "stream",
     "text": [
      "11 12 13 14 15 16 17 18 19 20 21 22 23 24 26 27 28 29 30 31 32 33 34 36 37 38 39 40 41 42 43 44 45 46 47 48 49 50 "
     ]
    }
   ],
   "source": [
    "n = 10\n",
    "while n<50:\n",
    "    n+=1\n",
    "    if n == 25 or n == 35:\n",
    "        continue\n",
    "    \n",
    "    print(n,end = ' ')\n",
    "    \n",
    "        "
   ]
  },
  {
   "cell_type": "markdown",
   "metadata": {},
   "source": [
    "### Functions \n",
    " -  group of statements to do perticular task\n",
    " - uses of function: \n",
    "    1. Reusability of code\n",
    "    2. Finding the error is fast\n",
    "    3. debugging can be done easily\n",
    "    4. reduce the size of the program\n",
    "    5. Decrease complexicity\n",
    "    6. better efficiency of a program\n",
    "  - Types of Functions\n",
    "    1. predefine functions\n",
    "       - Ex : print,min,max,sum,range..etc\n",
    "    2. User define function\n",
    "      - function creation\n",
    "        - Function decleration\n",
    "           - def keyword to declear the function\n",
    "             - def functionName(arg)\n",
    "        - Function Defination\n",
    "            - Statements\n",
    "               - operation of the function\n",
    "    3. Special functions \n",
    "       - Ex : Lambda,map,filter,iterator\n",
    "            \n",
    "  - Types User Define Functions     \n",
    "     - Based on arg \n",
    "         1. Default Arg\n",
    "         2. Required Arg\n",
    "         3. Variable length Arg\n",
    "         4. Key word Arg\n",
    "     - Based on return value\n",
    "        1. without arg and without return value\n",
    "        2. without arg and with return value\n",
    "        3. with arg and without return value\n",
    "        4. with arg and with return value\n",
    "\n",
    "\n"
   ]
  },
  {
   "cell_type": "code",
   "execution_count": 5,
   "metadata": {},
   "outputs": [
    {
     "name": "stdout",
     "output_type": "stream",
     "text": [
      "hello all\n"
     ]
    }
   ],
   "source": [
    "print('hello all')"
   ]
  },
  {
   "cell_type": "code",
   "execution_count": 7,
   "metadata": {},
   "outputs": [
    {
     "data": {
      "text/plain": [
       "10"
      ]
     },
     "execution_count": 7,
     "metadata": {},
     "output_type": "execute_result"
    }
   ],
   "source": [
    "#range(init,final,step)"
   ]
  },
  {
   "cell_type": "code",
   "execution_count": 1,
   "metadata": {},
   "outputs": [],
   "source": [
    "#def FunName(arg):\n",
    "    #statements\n",
    "def Message(name):\n",
    "    print('hello',name)"
   ]
  },
  {
   "cell_type": "code",
   "execution_count": 2,
   "metadata": {},
   "outputs": [
    {
     "name": "stdout",
     "output_type": "stream",
     "text": [
      "hello ramu\n"
     ]
    }
   ],
   "source": [
    "Message('ramu')"
   ]
  },
  {
   "cell_type": "code",
   "execution_count": 5,
   "metadata": {},
   "outputs": [],
   "source": [
    "# 1. without arg without return value\n",
    "def display():\n",
    "    Message('ramu')\n",
    "    name = input('enter name')\n",
    "    course = input('enter course')\n",
    "    print('hello {} you are taken {} course'.format(name,course))"
   ]
  },
  {
   "cell_type": "code",
   "execution_count": 6,
   "metadata": {},
   "outputs": [
    {
     "name": "stdout",
     "output_type": "stream",
     "text": [
      "hello ramu\n",
      "enter nameramu\n",
      "enter coursepython\n",
      "hello ramu you are taken python course\n"
     ]
    }
   ],
   "source": [
    "display()"
   ]
  },
  {
   "cell_type": "code",
   "execution_count": 6,
   "metadata": {},
   "outputs": [],
   "source": [
    "# 2. without arg and with return value\n",
    "def type2():\n",
    "    n1 = int(input('enter n1 value'))\n",
    "    n2 = int(input('enter n2 value'))\n",
    "    print('function is completed')\n",
    "    return n1+n2\n",
    "    "
   ]
  },
  {
   "cell_type": "code",
   "execution_count": 7,
   "metadata": {},
   "outputs": [
    {
     "name": "stdout",
     "output_type": "stream",
     "text": [
      "enter n1 value7844\n",
      "enter n2 value544\n",
      "function is completed\n"
     ]
    },
    {
     "data": {
      "text/plain": [
       "8388"
      ]
     },
     "execution_count": 7,
     "metadata": {},
     "output_type": "execute_result"
    }
   ],
   "source": [
    "type2()"
   ]
  },
  {
   "cell_type": "code",
   "execution_count": 3,
   "metadata": {},
   "outputs": [
    {
     "name": "stdout",
     "output_type": "stream",
     "text": [
      "None\n"
     ]
    }
   ],
   "source": [
    "print(std1)"
   ]
  },
  {
   "cell_type": "code",
   "execution_count": 18,
   "metadata": {},
   "outputs": [
    {
     "data": {
      "text/plain": [
       "177"
      ]
     },
     "execution_count": 18,
     "metadata": {},
     "output_type": "execute_result"
    }
   ],
   "source": [
    "max((std1,std2))"
   ]
  },
  {
   "cell_type": "code",
   "execution_count": 11,
   "metadata": {},
   "outputs": [],
   "source": [
    "# 3. with arg and without return\n",
    "def add(a,b):\n",
    "    print(a**b)"
   ]
  },
  {
   "cell_type": "code",
   "execution_count": 12,
   "metadata": {},
   "outputs": [
    {
     "name": "stdout",
     "output_type": "stream",
     "text": [
      "81\n"
     ]
    }
   ],
   "source": [
    "c = add(3,4)"
   ]
  },
  {
   "cell_type": "code",
   "execution_count": 14,
   "metadata": {},
   "outputs": [],
   "source": [
    "# 4. with arg and with return value"
   ]
  },
  {
   "cell_type": "code",
   "execution_count": 18,
   "metadata": {},
   "outputs": [
    {
     "data": {
      "text/plain": [
       "184"
      ]
     },
     "execution_count": 18,
     "metadata": {},
     "output_type": "execute_result"
    }
   ],
   "source": [
    "def arthematic(a,b,c):\n",
    "    if c == 1:\n",
    "        return a+b\n",
    "    elif c == 2:\n",
    "        return a-b\n",
    "    elif c == 3:\n",
    "        return a*b\n",
    "    elif c==4:\n",
    "        return a/b\n",
    "arthematic(d,e,f)"
   ]
  },
  {
   "cell_type": "code",
   "execution_count": 17,
   "metadata": {},
   "outputs": [
    {
     "name": "stdout",
     "output_type": "stream",
     "text": [
      "enter a value88\n",
      "enter b value96\n",
      "enter choice of operation1\n"
     ]
    },
    {
     "data": {
      "text/plain": [
       "184"
      ]
     },
     "execution_count": 17,
     "metadata": {},
     "output_type": "execute_result"
    }
   ],
   "source": [
    "d = int(input('enter a value'))\n",
    "e = int(input('enter b value'))\n",
    "\n",
    "f = int(input('enter choice of operation'))\n",
    "arthematic(d,e,f)"
   ]
  },
  {
   "cell_type": "code",
   "execution_count": null,
   "metadata": {},
   "outputs": [],
   "source": [
    "# 1. create function to check the prime or not\n",
    "# 2. create the function to generate the primenum range\n",
    "#3. create the function to generate the perfect numbers in range"
   ]
  }
 ],
 "metadata": {
  "kernelspec": {
   "display_name": "Python 3",
   "language": "python",
   "name": "python3"
  },
  "language_info": {
   "codemirror_mode": {
    "name": "ipython",
    "version": 3
   },
   "file_extension": ".py",
   "mimetype": "text/x-python",
   "name": "python",
   "nbconvert_exporter": "python",
   "pygments_lexer": "ipython3",
   "version": "3.7.3"
  }
 },
 "nbformat": 4,
 "nbformat_minor": 2
}
