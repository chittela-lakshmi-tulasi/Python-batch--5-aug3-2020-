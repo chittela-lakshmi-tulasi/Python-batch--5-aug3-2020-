{
 "cells": [
  {
   "cell_type": "code",
   "execution_count": 1,
   "metadata": {},
   "outputs": [
    {
     "name": "stdout",
     "output_type": "stream",
     "text": [
      "enter a number89\n",
      "not div by 17\n"
     ]
    }
   ],
   "source": [
    "# nested if loop\n",
    "n = int(input('enter a number'))\n",
    "if n%17 == 0:\n",
    "    if n%19==0:\n",
    "        print(n,'div by 17 and 19')\n",
    "    else:\n",
    "        print(n,' is div by 17 and not div by 19')\n",
    "else:\n",
    "    print('not div by 17')"
   ]
  },
  {
   "cell_type": "code",
   "execution_count": 2,
   "metadata": {},
   "outputs": [],
   "source": [
    "# iterations or loops\n",
    "# for ,while\n",
    "#Syntax: for iterator in range(arg):\n",
    "    #       statements"
   ]
  },
  {
   "cell_type": "code",
   "execution_count": 4,
   "metadata": {
    "collapsed": true
   },
   "outputs": [
    {
     "name": "stdout",
     "output_type": "stream",
     "text": [
      "0\n",
      "hello\n",
      "1\n",
      "hello\n",
      "2\n",
      "hello\n",
      "3\n",
      "hello\n",
      "4\n",
      "hello\n",
      "5\n",
      "hello\n",
      "6\n",
      "hello\n",
      "7\n",
      "hello\n",
      "8\n",
      "hello\n",
      "9\n",
      "hello\n"
     ]
    }
   ],
   "source": [
    "for i in range(10):\n",
    "    print(i)\n",
    "    print('hello')"
   ]
  },
  {
   "cell_type": "code",
   "execution_count": 6,
   "metadata": {
    "collapsed": true
   },
   "outputs": [
    {
     "name": "stdout",
     "output_type": "stream",
     "text": [
      "1\n",
      "3\n",
      "5\n",
      "7\n",
      "9\n"
     ]
    }
   ],
   "source": [
    "for i  in range(1,11,2):\n",
    "    print(i)"
   ]
  },
  {
   "cell_type": "code",
   "execution_count": 14,
   "metadata": {
    "scrolled": true
   },
   "outputs": [
    {
     "name": "stdout",
     "output_type": "stream",
     "text": [
      "10_8_6_4_2_"
     ]
    }
   ],
   "source": [
    "for i in range(10,0,-2):\n",
    "    print(i,end = '_')"
   ]
  },
  {
   "cell_type": "code",
   "execution_count": 16,
   "metadata": {},
   "outputs": [
    {
     "name": "stdout",
     "output_type": "stream",
     "text": [
      "100 105 110 115 120 125 130 135 140 145 150 155 160 165 170 175 180 185 190 195 "
     ]
    }
   ],
   "source": [
    "for i in range(100,200,5):\n",
    "    print(i,end = ' ')"
   ]
  },
  {
   "cell_type": "code",
   "execution_count": 22,
   "metadata": {},
   "outputs": [
    {
     "name": "stdout",
     "output_type": "stream",
     "text": [
      "enter intial value101\n",
      "enter final value200\n",
      "102 104 106 108 110 112 114 116 118 120 122 124 126 128 130 132 134 136 138 140 142 144 146 148 150 152 154 156 158 160 162 164 166 168 170 172 174 176 178 180 182 184 186 188 190 192 194 196 198 200 "
     ]
    }
   ],
   "source": [
    "# print even numbers from given range\n",
    "init = int(input('enter intial value'));fin = int(input('enter final value'))\n",
    "for i in range(init,fin+1):\n",
    "    if i%2 == 0:\n",
    "        print(i,end = ' ')"
   ]
  },
  {
   "cell_type": "code",
   "execution_count": 20,
   "metadata": {
    "collapsed": true
   },
   "outputs": [
    {
     "name": "stdout",
     "output_type": "stream",
     "text": [
      "enter x100\n",
      "enter y120\n",
      "100\n",
      "102\n",
      "104\n",
      "106\n",
      "108\n",
      "110\n",
      "112\n",
      "114\n",
      "116\n",
      "118\n"
     ]
    }
   ],
   "source": [
    "x=int(input(\"enter x\"))\n",
    "y=int(input(\"enter y\"))\n",
    "for i in range(x,y,2):\n",
    "    print(i)"
   ]
  },
  {
   "cell_type": "code",
   "execution_count": 27,
   "metadata": {},
   "outputs": [
    {
     "name": "stdout",
     "output_type": "stream",
     "text": [
      "enter number20\n",
      "1 2 4 5 10 20 6\n"
     ]
    }
   ],
   "source": [
    "# factors of a number\n",
    "n = int(input('enter number')) # 10 1,2,5,10\n",
    "count = 0\n",
    "for i in range(1,n+1):\n",
    "    if n%i == 0:\n",
    "        count+=1# count = count+1\n",
    "        print(i,end = ' ')\n",
    "\n",
    "print(count)  "
   ]
  },
  {
   "cell_type": "code",
   "execution_count": 36,
   "metadata": {},
   "outputs": [
    {
     "name": "stdout",
     "output_type": "stream",
     "text": [
      "enter a number17\n",
      "prime number\n"
     ]
    }
   ],
   "source": [
    "# write a program to check the number is prime or not\n",
    "n = int(input('enter a number'))\n",
    "c = 0\n",
    "for i in range(2,n):\n",
    "    if n%i == 0:\n",
    "        c+=1\n",
    "if c==0:\n",
    "    print('prime number')\n",
    "else:\n",
    "    print('not prime number')"
   ]
  },
  {
   "cell_type": "code",
   "execution_count": 38,
   "metadata": {},
   "outputs": [
    {
     "name": "stdout",
     "output_type": "stream",
     "text": [
      "enter number17\n",
      "prime\n"
     ]
    }
   ],
   "source": [
    "n = int(input('enter number'))\n",
    "C = 0\n",
    "for i in range(2,n+1):\n",
    "     if(n%i==0):\n",
    "       C+=1\n",
    "if(C==1):\n",
    " print('prime')\n",
    "else:\n",
    "  print('not')\n"
   ]
  },
  {
   "cell_type": "code",
   "execution_count": 41,
   "metadata": {},
   "outputs": [
    {
     "name": "stdout",
     "output_type": "stream",
     "text": [
      "enter number5\n",
      "not perfect\n"
     ]
    }
   ],
   "source": [
    "# perfect number\n",
    "# 6 1,2,3\n",
    "n = int(input('enter number'))\n",
    "s = 0\n",
    "for i in range(1,n):\n",
    "    if n%i == 0:\n",
    "        s+=i\n",
    "if s == n:\n",
    "    print('perfect')\n",
    "else:\n",
    "    print('not perfect')"
   ]
  },
  {
   "cell_type": "code",
   "execution_count": 42,
   "metadata": {},
   "outputs": [],
   "source": [
    "# Leap year\n",
    "# div 400 and 4 not div 100\n",
    "# 2000 >leap year\n",
    "# 2100 => not a leap year\n",
    "#N%4==0&n%400==0\n",
    "# 2020"
   ]
  },
  {
   "cell_type": "code",
   "execution_count": 58,
   "metadata": {},
   "outputs": [
    {
     "name": "stdout",
     "output_type": "stream",
     "text": [
      "enter yer2001\n",
      "not leap year\n"
     ]
    }
   ],
   "source": [
    "year = int(input('enter yer'))\n",
    "if year%400 == 0:\n",
    "    print('leap year')\n",
    "elif year%100 ==0:\n",
    "    print('not a leap year')\n",
    "elif year%4 == 0:\n",
    "    print('leap year')\n",
    "else:\n",
    "    print('not leap year')\n"
   ]
  },
  {
   "cell_type": "code",
   "execution_count": 63,
   "metadata": {},
   "outputs": [
    {
     "name": "stdout",
     "output_type": "stream",
     "text": [
      "enter yer2004\n",
      "leap year\n"
     ]
    }
   ],
   "source": [
    "year = int(input('enter yer'))\n",
    "if (year%400==0 and year%4 == 0) or (year%100!=0 and year%4 == 0):\n",
    "    print('leap year')\n",
    "else:\n",
    "    print('not leap year')"
   ]
  },
  {
   "cell_type": "code",
   "execution_count": 65,
   "metadata": {
    "collapsed": true
   },
   "outputs": [
    {
     "name": "stdout",
     "output_type": "stream",
     "text": [
      "enter init value2000\n",
      "enter final value2020\n",
      "2000\n",
      "2004\n",
      "2008\n",
      "2012\n",
      "2016\n",
      "2020\n"
     ]
    }
   ],
   "source": [
    "# print all leap years b/w the range\n",
    "init= int(input('enter init value'))\n",
    "fin = int(input('enter final value'))\n",
    "for year in range(init,fin+1):\n",
    "    if (year%400==0) or (year%100!=0 and year%4 == 0):\n",
    "        print(year)\n",
    "\n",
    "    "
   ]
  },
  {
   "cell_type": "code",
   "execution_count": 66,
   "metadata": {},
   "outputs": [],
   "source": [
    "# while \n",
    "# while condition :\n",
    "   # statements\n",
    "    "
   ]
  },
  {
   "cell_type": "code",
   "execution_count": 3,
   "metadata": {},
   "outputs": [
    {
     "name": "stdout",
     "output_type": "stream",
     "text": [
      "1 2 3 4 5 6 7 8 9 "
     ]
    }
   ],
   "source": [
    "n = 1\n",
    "while n<10:\n",
    "    print(n,end = ' ')\n",
    "    n+=1"
   ]
  },
  {
   "cell_type": "code",
   "execution_count": 6,
   "metadata": {
    "collapsed": true
   },
   "outputs": [
    {
     "name": "stdout",
     "output_type": "stream",
     "text": [
      "10\n",
      "9\n",
      "8\n",
      "7\n",
      "6\n",
      "5\n",
      "4\n",
      "3\n",
      "2\n",
      "1\n"
     ]
    }
   ],
   "source": [
    "n = 10\n",
    "while n>=1:\n",
    "    print(n)\n",
    "    n-=1"
   ]
  },
  {
   "cell_type": "code",
   "execution_count": 16,
   "metadata": {},
   "outputs": [
    {
     "name": "stdout",
     "output_type": "stream",
     "text": [
      "enter number78998788\n",
      "88789987\n"
     ]
    }
   ],
   "source": [
    "n = int(input('enter number'))# 345\n",
    "res = 0\n",
    "while n!=0:#t t t F\n",
    "    a = n%10 #5  4 3\n",
    "    res = res*10+a #5 54 543\n",
    "    n = n//10 # 34 3  0\n",
    "print(res)\n"
   ]
  },
  {
   "cell_type": "code",
   "execution_count": 10,
   "metadata": {},
   "outputs": [
    {
     "data": {
      "text/plain": [
       "0"
      ]
     },
     "execution_count": 10,
     "metadata": {},
     "output_type": "execute_result"
    }
   ],
   "source": [
    "345%10\n",
    "345//10\n",
    "3//10"
   ]
  },
  {
   "cell_type": "code",
   "execution_count": 17,
   "metadata": {},
   "outputs": [
    {
     "name": "stdout",
     "output_type": "stream",
     "text": [
      "hello ramu goodevng  python is easy\n"
     ]
    }
   ],
   "source": [
    "print('hello {} goodevng  {} is easy'.format('ramu','python'))"
   ]
  },
  {
   "cell_type": "code",
   "execution_count": null,
   "metadata": {},
   "outputs": [],
   "source": []
  }
 ],
 "metadata": {
  "kernelspec": {
   "display_name": "Python 3",
   "language": "python",
   "name": "python3"
  },
  "language_info": {
   "codemirror_mode": {
    "name": "ipython",
    "version": 3
   },
   "file_extension": ".py",
   "mimetype": "text/x-python",
   "name": "python",
   "nbconvert_exporter": "python",
   "pygments_lexer": "ipython3",
   "version": "3.7.3"
  }
 },
 "nbformat": 4,
 "nbformat_minor": 2
}
