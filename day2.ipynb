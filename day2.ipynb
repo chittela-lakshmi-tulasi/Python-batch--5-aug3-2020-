{
 "cells": [
  {
   "cell_type": "markdown",
   "metadata": {},
   "source": [
    "### operators\n",
    "1. Arthemetic \n",
    "   - +,-,*,** ,/ ,//, %\n",
    "2. asigenment\n",
    "   - =,+=,-=,*=,/=,//=,%=\n",
    "3. comparision \n",
    "   - ==,<,>,<=,>=,!=\n",
    "4. logical operators\n",
    "   - and, or, not\n",
    "5. bitwise operators\n",
    "   - and , or, xor,>>,<<\n",
    "6. identity operators\n",
    "   - is ,isnot\n",
    "7. membership operators\n",
    "   - in ,notin"
   ]
  },
  {
   "cell_type": "code",
   "execution_count": 2,
   "metadata": {},
   "outputs": [
    {
     "name": "stdout",
     "output_type": "stream",
     "text": [
      "13\n",
      "7\n",
      "30\n",
      "3.3333333333333335\n",
      "3\n",
      "1\n",
      "1000\n"
     ]
    }
   ],
   "source": [
    "# Arthemetic operators\n",
    "a = 10\n",
    "b = 3\n",
    "print(a+b)\n",
    "print(a-b)\n",
    "print(a*b)\n",
    "print(a/b)\n",
    "print(a//b)\n",
    "print(a%b)\n",
    "print(a**b)"
   ]
  },
  {
   "cell_type": "code",
   "execution_count": 4,
   "metadata": {},
   "outputs": [
    {
     "name": "stdout",
     "output_type": "stream",
     "text": [
      "40\n",
      "35\n",
      "175\n",
      "35.0\n"
     ]
    }
   ],
   "source": [
    "a=35\n",
    "b = 5\n",
    "a+=b # a = a+b\n",
    "print(a)\n",
    "a-=b # a = a-b\n",
    "print(a)\n",
    "a*=b # a = a*b\n",
    "print(a)\n",
    "a/=b # a = a/b\n",
    "print(a)"
   ]
  },
  {
   "cell_type": "code",
   "execution_count": 5,
   "metadata": {},
   "outputs": [
    {
     "name": "stdout",
     "output_type": "stream",
     "text": [
      "False\n",
      "True\n",
      "False\n",
      "True\n",
      "False\n",
      "True\n"
     ]
    }
   ],
   "source": [
    "a = 10\n",
    "b = 30\n",
    "print(a==b)\n",
    "print(a<b)\n",
    "print(a>b)\n",
    "print(a<=b)\n",
    "print(a>=b)\n",
    "print(a!=b)"
   ]
  },
  {
   "cell_type": "code",
   "execution_count": 15,
   "metadata": {},
   "outputs": [
    {
     "data": {
      "text/plain": [
       "10"
      ]
     },
     "execution_count": 15,
     "metadata": {},
     "output_type": "execute_result"
    }
   ],
   "source": [
    "x = -1\n",
    "y = 10\n",
    "x and y # if x values is false return x ,otherwise return y"
   ]
  },
  {
   "cell_type": "code",
   "execution_count": 7,
   "metadata": {},
   "outputs": [
    {
     "data": {
      "text/plain": [
       "0"
      ]
     },
     "execution_count": 7,
     "metadata": {},
     "output_type": "execute_result"
    }
   ],
   "source": [
    "x = 0\n",
    "x and y"
   ]
  },
  {
   "cell_type": "code",
   "execution_count": 14,
   "metadata": {},
   "outputs": [
    {
     "data": {
      "text/plain": [
       "False"
      ]
     },
     "execution_count": 14,
     "metadata": {},
     "output_type": "execute_result"
    }
   ],
   "source": [
    "True and False"
   ]
  },
  {
   "cell_type": "code",
   "execution_count": 17,
   "metadata": {},
   "outputs": [
    {
     "data": {
      "text/plain": [
       "20"
      ]
     },
     "execution_count": 17,
     "metadata": {},
     "output_type": "execute_result"
    }
   ],
   "source": [
    "x = 0\n",
    "y = 20\n",
    "x or y"
   ]
  },
  {
   "cell_type": "code",
   "execution_count": 22,
   "metadata": {},
   "outputs": [
    {
     "data": {
      "text/plain": [
       "True"
      ]
     },
     "execution_count": 22,
     "metadata": {},
     "output_type": "execute_result"
    }
   ],
   "source": [
    "x = 0\n",
    "not x"
   ]
  },
  {
   "cell_type": "code",
   "execution_count": 23,
   "metadata": {},
   "outputs": [],
   "source": [
    "# Bitwise operators\n",
    "# & ,|, ^ >>,<<"
   ]
  },
  {
   "cell_type": "code",
   "execution_count": 30,
   "metadata": {},
   "outputs": [
    {
     "name": "stdout",
     "output_type": "stream",
     "text": [
      "2\n",
      "15\n",
      "13\n"
     ]
    }
   ],
   "source": [
    "x = 7  # 0111\n",
    "y = 10 # 1010\n",
    "print(x & y)  # 0010\n",
    "print(x | y) #1111\n",
    "print(x ^ y) # 1101\n"
   ]
  },
  {
   "cell_type": "code",
   "execution_count": 34,
   "metadata": {},
   "outputs": [
    {
     "name": "stdout",
     "output_type": "stream",
     "text": [
      "48\n",
      "0b10\n",
      "0b11000\n",
      "0b110000\n",
      "3\n"
     ]
    }
   ],
   "source": [
    "x = 12 #1100\n",
    "print(x<<2)# 1000\n",
    "print(bin(2))\n",
    "print(bin(x<<1))\n",
    "print(bin(x<<2))\n",
    "print(x>>2)# 00110"
   ]
  },
  {
   "cell_type": "code",
   "execution_count": 27,
   "metadata": {},
   "outputs": [
    {
     "data": {
      "text/plain": [
       "'0b1100101'"
      ]
     },
     "execution_count": 27,
     "metadata": {},
     "output_type": "execute_result"
    }
   ],
   "source": [
    "bin(101)"
   ]
  },
  {
   "cell_type": "code",
   "execution_count": 26,
   "metadata": {},
   "outputs": [
    {
     "data": {
      "text/plain": [
       "101"
      ]
     },
     "execution_count": 26,
     "metadata": {},
     "output_type": "execute_result"
    }
   ],
   "source": [
    "b = '001100101'\n",
    "int(b,2)"
   ]
  },
  {
   "cell_type": "code",
   "execution_count": 38,
   "metadata": {},
   "outputs": [
    {
     "data": {
      "text/plain": [
       "False"
      ]
     },
     "execution_count": 38,
     "metadata": {},
     "output_type": "execute_result"
    }
   ],
   "source": [
    "x = 123\n",
    "y = 123\n",
    "x is not y"
   ]
  },
  {
   "cell_type": "code",
   "execution_count": 49,
   "metadata": {},
   "outputs": [],
   "source": [
    "# in ,not \n",
    "#,b,c = 10,20,30\n",
    "#a = 10;b =20;c=30\n",
    "a = 1,2,3\n",
    "#x,y,z =30\n",
    "x= y =z =30"
   ]
  },
  {
   "cell_type": "code",
   "execution_count": 50,
   "metadata": {},
   "outputs": [
    {
     "data": {
      "text/plain": [
       "True"
      ]
     },
     "execution_count": 50,
     "metadata": {},
     "output_type": "execute_result"
    }
   ],
   "source": [
    "5 not in a"
   ]
  },
  {
   "cell_type": "code",
   "execution_count": 53,
   "metadata": {},
   "outputs": [
    {
     "data": {
      "text/plain": [
       "int"
      ]
     },
     "execution_count": 53,
     "metadata": {},
     "output_type": "execute_result"
    }
   ],
   "source": [
    "# data types\n",
    "# int,float,str,complex,boolean\n",
    "a = 10748564973863987659784326930237657485674365674326597732\n",
    "type(a)"
   ]
  },
  {
   "cell_type": "code",
   "execution_count": 64,
   "metadata": {},
   "outputs": [
    {
     "data": {
      "text/plain": [
       "complex"
      ]
     },
     "execution_count": 64,
     "metadata": {},
     "output_type": "execute_result"
    }
   ],
   "source": [
    "s ='apssdc'\n",
    "type(s)\n",
    "z = complex(123,345)\n",
    "z.real\n",
    "type(z)"
   ]
  },
  {
   "cell_type": "code",
   "execution_count": 63,
   "metadata": {},
   "outputs": [
    {
     "data": {
      "text/plain": [
       "20.0"
      ]
     },
     "execution_count": 63,
     "metadata": {},
     "output_type": "execute_result"
    }
   ],
   "source": [
    "x = 10\n",
    "y = 20\n",
    "z = complex(x,y)\n",
    "type(z)\n",
    "z.imag"
   ]
  },
  {
   "cell_type": "code",
   "execution_count": 56,
   "metadata": {},
   "outputs": [
    {
     "data": {
      "text/plain": [
       "(10+20j)"
      ]
     },
     "execution_count": 56,
     "metadata": {},
     "output_type": "execute_result"
    }
   ],
   "source": [
    "z"
   ]
  },
  {
   "cell_type": "code",
   "execution_count": 66,
   "metadata": {},
   "outputs": [
    {
     "data": {
      "text/plain": [
       "bool"
      ]
     },
     "execution_count": 66,
     "metadata": {},
     "output_type": "execute_result"
    }
   ],
   "source": [
    "x = True\n",
    "type(x)"
   ]
  },
  {
   "cell_type": "code",
   "execution_count": 67,
   "metadata": {},
   "outputs": [],
   "source": [
    "# Type casting\n",
    "# converting one data type to another data type"
   ]
  },
  {
   "cell_type": "code",
   "execution_count": 69,
   "metadata": {},
   "outputs": [
    {
     "name": "stdout",
     "output_type": "stream",
     "text": [
      "10 10.0 <class 'int'> <class 'float'>\n"
     ]
    }
   ],
   "source": [
    "x = 10\n",
    "y = float(x)\n",
    "print(x,y,type(x),type(y))"
   ]
  },
  {
   "cell_type": "code",
   "execution_count": 70,
   "metadata": {},
   "outputs": [
    {
     "name": "stdout",
     "output_type": "stream",
     "text": [
      "12.344 12 <class 'float'> <class 'int'>\n"
     ]
    }
   ],
   "source": [
    "x =12.344\n",
    "y = int(x)\n",
    "print(x,y,type(x),type(y))"
   ]
  },
  {
   "cell_type": "code",
   "execution_count": 80,
   "metadata": {},
   "outputs": [
    {
     "name": "stdout",
     "output_type": "stream",
     "text": [
      "enter x,y value789\n",
      "<class 'int'>\n"
     ]
    }
   ],
   "source": [
    "x= int(input('enter x,y value'))\n",
    "print(type(x))"
   ]
  },
  {
   "cell_type": "code",
   "execution_count": 87,
   "metadata": {},
   "outputs": [
    {
     "name": "stdout",
     "output_type": "stream",
     "text": [
      "enter n value897\n",
      "897 odd number\n",
      "given 897 is odd number\n"
     ]
    }
   ],
   "source": [
    "# Flow controls\n",
    "# even number checking\n",
    "n = int(input('enter n value'))\n",
    "if n%2 == 0:\n",
    "    print('even number')\n",
    "    print('given {} is even number'.format(n))\n",
    "else:\n",
    "    print(n,'odd number')\n",
    "    print('given {} is odd number'.format(n))"
   ]
  },
  {
   "cell_type": "code",
   "execution_count": 88,
   "metadata": {},
   "outputs": [],
   "source": [
    "# gread printing\n",
    "# marks in b/w 100 to 90 => A Grade\n",
    "# marks in b/w 89 to 70 => B Grade\n",
    "# marks in b/w 69 to 50 => c Grade\n",
    "# marks in b/w 49 to 35 => D Grade\n",
    "# marks in b/w 34 to 0 => Fail\n",
    "# marks>100 or <0 invalid marks"
   ]
  },
  {
   "cell_type": "code",
   "execution_count": 95,
   "metadata": {},
   "outputs": [
    {
     "name": "stdout",
     "output_type": "stream",
     "text": [
      "80\n"
     ]
    }
   ],
   "source": [
    "a = 80\n",
    "if a<101 and a>=90:\n",
    "    print(a)\n",
    "elif a<90 and a>70:\n",
    "    print(a)"
   ]
  },
  {
   "cell_type": "code",
   "execution_count": 98,
   "metadata": {},
   "outputs": [
    {
     "name": "stdout",
     "output_type": "stream",
     "text": [
      "enter n value18\n"
     ]
    }
   ],
   "source": [
    "n = int(input('enter n value'))\n",
    "if n%7 == 0 and n%9 ==0:\n",
    "    print('number is div by 7 and 9')"
   ]
  },
  {
   "cell_type": "code",
   "execution_count": 105,
   "metadata": {},
   "outputs": [
    {
     "name": "stdout",
     "output_type": "stream",
     "text": [
      "enter n value10\n",
      "number is not div 7 or 9\n"
     ]
    }
   ],
   "source": [
    "n = int(input('enter n value'))\n",
    "if n%7 == 0:\n",
    "    if n%9 == 0:\n",
    "        print('number is div by 7 or 9')\n",
    "    else:\n",
    "        print('number is div 7 only')\n",
    "else:\n",
    "    print('number is not div 7 or 9')"
   ]
  },
  {
   "cell_type": "code",
   "execution_count": null,
   "metadata": {},
   "outputs": [],
   "source": [
    "n"
   ]
  }
 ],
 "metadata": {
  "kernelspec": {
   "display_name": "Python 3",
   "language": "python",
   "name": "python3"
  },
  "language_info": {
   "codemirror_mode": {
    "name": "ipython",
    "version": 3
   },
   "file_extension": ".py",
   "mimetype": "text/x-python",
   "name": "python",
   "nbconvert_exporter": "python",
   "pygments_lexer": "ipython3",
   "version": "3.7.3"
  }
 },
 "nbformat": 4,
 "nbformat_minor": 2
}
